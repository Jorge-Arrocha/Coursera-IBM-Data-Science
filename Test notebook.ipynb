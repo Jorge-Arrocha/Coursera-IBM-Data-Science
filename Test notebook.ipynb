{
    "cells": [
        {
            "metadata": {},
            "cell_type": "markdown",
            "source": "# Jupyter Notebook to test publishig in GitHub"
        },
        {
            "metadata": {
                "collapsed": true
            },
            "cell_type": "code",
            "source": "import PIL\nfrom PIL import Image, ImageDraw, ImageFont\nfrom IPython.display import display\n   \ndef text_Color(channel,intensity):\n    '''Returns a color code, determined by a particular intesity when applied to a specified color channel.\n    :param channel: an integer value specifying the target band upon which the intensity will be applied.\n    :param intensity: an interger value. \n    :return: a 3-tuple color code with a specific intensity applied to a selected band.\n    '''\n    if channel == 0:\n        return (int(255*intensity),255,255)\n    elif channel == 1:\n        return (255,int(255*intensity),255)\n    else:\n        return (255,255,int(255*intensity))\n\n# read image and convert to RGB\nimage=Image.open(\"/Coursera/Python/PY3/readonly/msi_recruitment.gif\")\nimage=image.convert('RGB')\n# set the desired font\nfont = ImageFont.truetype(\"/Coursera/Python/PY3/readonly/fanwood-webfont.ttf\",75)\n# build a list of 9 adjusted images and place them in a list named 'canvas'\ncanvas = []\nfor channel in range(3):\n    for intensity in (0.1, 0.5, 0.9):\n        # separate the image's Red, Green and Blue bands\n        individual_Bands = image.split()\n        # modify only the target band, as determined by the channel, pixel by pixel with lambda\n        modified_Band = individual_Bands[channel].point(lambda pixel: pixel*intensity)\n        # paste back the modified band\n        individual_Bands[channel].paste(modified_Band)\n        # merge the three bands back again to produce the adjusted image\n        adjusted_Image = Image.merge(image.mode, individual_Bands)\n        # construct an image 'place holder' with enough room for the image and its label\n        # (size of label box set to 85 to fit in letters with 75 font size)\n        labeled_Image = PIL.Image.new(adjusted_Image.mode, (adjusted_Image.width,adjusted_Image.height+85))\n        # paste the adjusted image on the place holder\n        labeled_Image.paste(adjusted_Image)\n        # construct a draw object to enable writing a label on its image\n        printer = ImageDraw.Draw(labeled_Image)\n        # write the text 5 pixels above the bottom of the label box to center it\n        printer.text((0,455), \n                     'channel {} intensity {}'.format(channel,intensity), \n                     fill=text_Color(channel,intensity),\n                     font=font)\n        # place the labeled image in the list 'canvas'\n        canvas.append(labeled_Image)     \n# construct the contact sheet with enough room for a 3x3 set of images\nfirst_Image = canvas[0]\ncontact_Sheet = PIL.Image.new(first_Image.mode, (first_Image.width*3,first_Image.height*3))\n# iterate the canvas list to place each image in the contact sheet\nx = 0\ny = 0\nfor img in canvas:\n    # lets paste the current image into the contact sheet\n    contact_Sheet.paste(img, (x,y))\n    if x + first_Image.width == contact_Sheet.width:\n        x = 0\n        y += first_Image.height\n    else:\n        x += first_Image.width   \n# resize and display the contact sheet\ncontact_Sheet = contact_Sheet.resize((int(contact_Sheet.width/2),int(contact_Sheet.height/2)))\ndisplay(contact_Sheet)\n",
            "execution_count": null,
            "outputs": []
        }
    ],
    "metadata": {
        "kernelspec": {
            "name": "python3",
            "display_name": "Python 3.7",
            "language": "python"
        },
        "language_info": {
            "name": "python",
            "version": "3.7.10",
            "mimetype": "text/x-python",
            "codemirror_mode": {
                "name": "ipython",
                "version": 3
            },
            "pygments_lexer": "ipython3",
            "nbconvert_exporter": "python",
            "file_extension": ".py"
        }
    },
    "nbformat": 4,
    "nbformat_minor": 1
}